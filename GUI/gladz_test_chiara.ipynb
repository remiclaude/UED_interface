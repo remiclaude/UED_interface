{
 "cells": [
  {
   "cell_type": "code",
   "execution_count": null,
   "id": "d40379b7",
   "metadata": {},
   "outputs": [],
   "source": [
    "\n",
    "\n"
   ]
  },
  {
   "cell_type": "code",
   "execution_count": null,
   "id": "c99e6c7f",
   "metadata": {},
   "outputs": [],
   "source": [
    "# --- Cell 1: Imports and DLL setup ---\n",
    "import numpy as np\n",
    "from ctypes import *\n",
    "import sys\n",
    "sys.path.append(\"c:/Users/mainUED/Documents/GitHub/UED/GUI/\")\n",
    "\n",
    "# Adjust path to your DLL\n",
    "#dll_path = r\".\\DLLs\\GladzDLL.dll\"  \n",
    "glaz = cdll.LoadLibrary(\"./DLLs/gladz/GlazLib.dll\")\n",
    "\n",
    "\n",
    "initial_path = r\".\"  # or wherever your scripts are located\n"
   ]
  },
  {
   "cell_type": "code",
   "execution_count": null,
   "id": "2e3205ed",
   "metadata": {},
   "outputs": [],
   "source": [
    "# --- Cell 2: Initialize Gladz ---\n",
    "def initialize_Gladz():\n",
    "    global glaz\n",
    "    script_path = initial_path + r'\\DLLs\\trial.gsc'\n",
    "    \n",
    "    # encode script path to bytes\n",
    "    script = c_char_p(bytes(script_path, 'utf-8'))\n",
    "    \n",
    "    res = glaz.initialiseSession(script)\n",
    "    print(\"Initialise result:\", res)\n",
    "\n",
    "    error_message = c_char_p(b\"No error detected\")\n",
    "    res = glaz.getLastErrorMessage(error_message)\n",
    "    print(\"Last error message: \", error_message.value)\n",
    "\n",
    "initialize_Gladz()\n"
   ]
  },
  {
   "cell_type": "code",
   "execution_count": null,
   "id": "3ad89360",
   "metadata": {},
   "outputs": [],
   "source": [
    "# --- Cell 3: Set scan parameters ---\n",
    "scan_cnt = 100   # manual replacement for lineEdit_4.text()\n",
    "scan_cnt_out = c_int(0)\n",
    "pd_number = c_int(1)   # must match your XML config\n",
    "pd_channel = c_int(2)  # channel selection\n",
    "\n",
    "def set_GladzPD():\n",
    "    global scan_cnt, glaz\n",
    "    res = glaz.setScanCount(c_int(scan_cnt))\n",
    "    print(\"setScanCount result:\", res)\n",
    "    \n",
    "    if res != 0:\n",
    "        error_message = c_char_p(b\"No error detected\")\n",
    "        res = glaz.getLastErrorMessage(error_message)\n",
    "        print(\"Error:\", error_message.value)\n",
    "\n",
    "set_GladzPD()\n"
   ]
  },
  {
   "cell_type": "code",
   "execution_count": null,
   "id": "e0203689",
   "metadata": {},
   "outputs": [],
   "source": [
    "# --- Cell 4: Run measurement and get data ---\n",
    "def Gladz_data():\n",
    "    # Step 1: run a measurement\n",
    "    res = glaz.runMeasurement()\n",
    "    print(\"runMeasurement result:\", res)\n",
    "\n",
    "    # Step 2: fetch values\n",
    "    data = np.ndarray(scan_cnt, dtype=np.double)\n",
    "    data_ctype = data.ctypes.data_as(POINTER(c_double))\n",
    "\n",
    "    glaz.getPDValues.argtypes = [c_int, c_int, POINTER(c_int), POINTER(c_double)]\n",
    "    _ = glaz.getPDValues(pd_number, pd_channel, byref(scan_cnt_out), data_ctype)\n",
    "\n",
    "    error_message = c_char_p(b\"No error detected\")\n",
    "    _ = glaz.getLastErrorMessage(error_message)\n",
    "    if error_message.value != b\"\":\n",
    "        print(\"Error:\", error_message.value)\n",
    "\n",
    "    return data, scan_cnt_out.value\n",
    "\n",
    "data_diode, scan_out = Gladz_data()\n",
    "print(\"Retrieved\", scan_out, \"samples\")\n",
    "print(data_diode)\n"
   ]
  },
  {
   "cell_type": "code",
   "execution_count": null,
   "id": "6ed46f21",
   "metadata": {},
   "outputs": [],
   "source": [
    "# --- Cell 5: Simple plotting ---\n",
    "import matplotlib.pyplot as plt\n",
    "\n",
    "def gladz_plot(data):\n",
    "    plt.figure(figsize=(8,4))\n",
    "    plt.plot(data)\n",
    "    plt.title(\"Gladz Photodiode Data\")\n",
    "    plt.xlabel(\"Index\")\n",
    "    plt.ylabel(\"Signal\")\n",
    "    plt.show()\n",
    "\n",
    "gladz_plot(data_diode)\n"
   ]
  },
  {
   "cell_type": "code",
   "execution_count": null,
   "id": "a3d0b7cc",
   "metadata": {},
   "outputs": [],
   "source": []
  }
 ],
 "metadata": {
  "kernelspec": {
   "display_name": "Python 3",
   "language": "python",
   "name": "python3"
  },
  "language_info": {
   "codemirror_mode": {
    "name": "ipython",
    "version": 3
   },
   "file_extension": ".py",
   "mimetype": "text/x-python",
   "name": "python",
   "nbconvert_exporter": "python",
   "pygments_lexer": "ipython3",
   "version": "3.8.10"
  }
 },
 "nbformat": 4,
 "nbformat_minor": 5
}
