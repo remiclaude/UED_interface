{
 "cells": [
  {
   "cell_type": "code",
   "execution_count": null,
   "metadata": {},
   "outputs": [],
   "source": [
    "from thorlabs_mc2000b import MC2000B, Blade\n",
    "# Initialise the first detected device\n",
    "chopper = MC2000B('COM13')\n",
    "# We'll assume the default MC1F10HP is installed\n",
    "print(chopper.get_blade_string())\n",
    "# Set up to use external reference source and the inner part of the blade\n",
    "print(chopper.output)\n",
    "print(chopper.get_outref_string())\n",
    "# chopper.set_inref_string(\"external-inner\")\n",
    "# # Apply a 1/2 divider to the input frequency\n",
    "# chopper.nharmonic = 1\n",
    "# chopper.dharmonic = 2\n",
    "# Start it up!\n",
    "chopper.enable = True\n",
    "\n",
    "# If a different chopper blade is installed, it can be configured by\n",
    "# using the Blade enum, for example for the MC1F60 model:\n",
    "chopper.blade = Blade.MC1F60\n",
    "# This may change the available input and/or output reference sources.\n",
    "# To check which are available for a blade model:\n",
    "print(Blade.MC1F60.inrefs)\n",
    "print(Blade.MC1F60.outrefs)"
   ]
  },
  {
   "cell_type": "code",
   "execution_count": null,
   "metadata": {},
   "outputs": [],
   "source": [
    "chopper.keys()"
   ]
  },
  {
   "cell_type": "code",
   "execution_count": null,
   "metadata": {},
   "outputs": [],
   "source": [
    "print(chopper.refoutfreq )"
   ]
  },
  {
   "cell_type": "code",
   "execution_count": null,
   "metadata": {},
   "outputs": [],
   "source": [
    "print(chopper.enable)"
   ]
  },
  {
   "cell_type": "code",
   "execution_count": null,
   "metadata": {},
   "outputs": [],
   "source": [
    "# chopper.enable =False\n",
    "chopper.enable =True\n"
   ]
  },
  {
   "cell_type": "code",
   "execution_count": null,
   "metadata": {},
   "outputs": [],
   "source": [
    "chopper.get_commands()"
   ]
  },
  {
   "cell_type": "code",
   "execution_count": null,
   "metadata": {},
   "outputs": [],
   "source": []
  }
 ],
 "metadata": {
  "kernelspec": {
   "display_name": "Python 3",
   "language": "python",
   "name": "python3"
  },
  "language_info": {
   "codemirror_mode": {
    "name": "ipython",
    "version": 3
   },
   "file_extension": ".py",
   "mimetype": "text/x-python",
   "name": "python",
   "nbconvert_exporter": "python",
   "pygments_lexer": "ipython3",
   "version": "3.8.10"
  }
 },
 "nbformat": 4,
 "nbformat_minor": 2
}
